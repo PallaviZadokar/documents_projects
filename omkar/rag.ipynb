{
 "cells": [
  {
   "cell_type": "code",
   "execution_count": 1,
   "metadata": {},
   "outputs": [],
   "source": [
    "### Initialized a Embedding Model.\n",
    "\n",
    "from langchain_ollama import OllamaEmbeddings\n",
    "\n",
    "embed = OllamaEmbeddings(\n",
    "    model=\"llama3\"\n",
    ")"
   ]
  },
  {
   "cell_type": "code",
   "execution_count": 2,
   "metadata": {},
   "outputs": [
    {
     "name": "stdout",
     "output_type": "stream",
     "text": [
      "2\n"
     ]
    }
   ],
   "source": [
    "input_texts = [\"Document 1...\", \"Document 2...\"]\n",
    "vectors = embed.embed_documents(input_texts)\n",
    "print(len(vectors))"
   ]
  },
  {
   "cell_type": "code",
   "execution_count": 3,
   "metadata": {},
   "outputs": [],
   "source": [
    "from IPython.display import Markdown, display\n",
    "import chromadb\n",
    "from llama_index.core import VectorStoreIndex, SimpleDirectoryReader\n",
    "from llama_index.core import StorageContext"
   ]
  },
  {
   "cell_type": "markdown",
   "metadata": {},
   "source": [
    "### ChromaDB "
   ]
  },
  {
   "cell_type": "code",
   "execution_count": 18,
   "metadata": {},
   "outputs": [],
   "source": [
    "# create client and a new collection\n",
    "chroma_client = chromadb.Client()\n",
    "chroma_collection = chroma_client.create_collection(name=\"orangehrm\")\n"
   ]
  },
  {
   "cell_type": "code",
   "execution_count": 30,
   "metadata": {},
   "outputs": [
    {
     "name": "stderr",
     "output_type": "stream",
     "text": [
      "Add of existing embedding ID: id1\n",
      "Add of existing embedding ID: id2\n",
      "Insert of existing embedding ID: id1\n",
      "Insert of existing embedding ID: id2\n"
     ]
    }
   ],
   "source": [
    "chroma_collection.add(\n",
    "\n",
    "    documents = [\n",
    "        \"\"\"\n",
    "{\n",
    "    user_instruction : \"What are steps to login\",\n",
    "    System_output : \n",
    "                    [\n",
    "                    Step1 : Click on the Username inputbox\n",
    "                    Step2 : Enter the Username in the Username inputbox\n",
    "                    Step3 : click on the password inputbox\n",
    "                    Step4 : Enter the password in the password inputbox\n",
    "                    Step5 : Click Login Button\n",
    "                    ]\n",
    "}\n",
    "\"\"\",\n",
    "        \"\"\"\n",
    "{\n",
    "    user_instruction : \"What are steps to logout\",\n",
    "    System_output : \n",
    "                    [\n",
    "                    Step1 : Click on the User dropdown\n",
    "                    Step2 : Click on the logout option in the User dropdown\n",
    "                    ]\n",
    "}\n",
    "\"\"\"\n",
    "    ],\n",
    "    ids = [\"id1\",\"id2\"],\n",
    ")"
   ]
  },
  {
   "cell_type": "code",
   "execution_count": 31,
   "metadata": {},
   "outputs": [
    {
     "data": {
      "text/plain": [
       "{'ids': ['id1', 'id2'],\n",
       " 'embeddings': None,\n",
       " 'metadatas': [None, None],\n",
       " 'documents': ['\\n{\\n    user_instruction : \"What are steps to login\",\\n    System_output : \\n                    [\\n                    Step1 : Click on the Username inputbox\\n                    Step2 : Enter the Username in the Username inputbox\\n                    Step3 : click on the password inputbox\\n                    Step4 : Enter the password in the password inputbox\\n                    Step5 : Click Login Button\\n                    ]\\n}\\n',\n",
       "  '\\n{\\n    user_instruction : \"What are steps to logout\",\\n    System_output : \\n                    [\\n                    Step1 : Click on the User dropdown\\n                    Step2 : Click on the logout option in the User dropdown\\n                    ]\\n}\\n'],\n",
       " 'uris': None,\n",
       " 'data': None,\n",
       " 'included': ['metadatas', 'documents']}"
      ]
     },
     "execution_count": 31,
     "metadata": {},
     "output_type": "execute_result"
    }
   ],
   "source": [
    "all_docs = chroma_collection.get()\n",
    "all_docs"
   ]
  },
  {
   "cell_type": "code",
   "execution_count": 24,
   "metadata": {},
   "outputs": [
    {
     "data": {
      "text/plain": [
       "{'ids': ['id2'],\n",
       " 'embeddings': None,\n",
       " 'metadatas': [None],\n",
       " 'documents': ['\\n{\\n    user_instruction : \"What are steps to logout\",\\n    System_output : \\n                    [\\n                    Step1 : Click on the User dropdown\\n                    Step2 : Click on the logout option in the User dropdown\\n                    ]\\n}\\n'],\n",
       " 'uris': None,\n",
       " 'data': None,\n",
       " 'included': ['metadatas', 'documents']}"
      ]
     },
     "execution_count": 24,
     "metadata": {},
     "output_type": "execute_result"
    }
   ],
   "source": [
    "document = chroma_collection.get(ids=['id2'])\n",
    "document"
   ]
  },
  {
   "cell_type": "code",
   "execution_count": 29,
   "metadata": {},
   "outputs": [
    {
     "data": {
      "text/plain": [
       "{'ids': [['id2', 'id1']],\n",
       " 'distances': [[1.7866888046264648, 1.8796885013580322]],\n",
       " 'metadatas': [[None, None]],\n",
       " 'embeddings': None,\n",
       " 'documents': [['\\n{\\n    user_instruction : \"What are steps to logout\",\\n    System_output : \\n                    [\\n                    Step1 : Click on the User dropdown\\n                    Step2 : Click on the logout option in the User dropdown\\n                    ]\\n}\\n',\n",
       "   '\\n{\\n    user_instruction : \"What are steps to login\",\\n    System_output : \\n                    [\\n                    Step1 : Click on the Username inputbox\\n                    Step2 : Enter the Username in the Username inputbox\\n                    Step3 : click on the password inputbox\\n                    Step4 : Enter the password in the password inputbox\\n                    Step5 : Click Login Button\\n                    ]\\n}\\n']],\n",
       " 'uris': None,\n",
       " 'data': None,\n",
       " 'included': ['metadatas', 'documents', 'distances']}"
      ]
     },
     "execution_count": 29,
     "metadata": {},
     "output_type": "execute_result"
    }
   ],
   "source": [
    "chroma_collection.query(\n",
    "    query_texts = [\"Query is about dashboard\"],\n",
    "    n_results =2\n",
    ")"
   ]
  },
  {
   "cell_type": "markdown",
   "metadata": {},
   "source": [
    "#### Integrating With Retrival Chain"
   ]
  },
  {
   "cell_type": "code",
   "execution_count": 35,
   "metadata": {},
   "outputs": [],
   "source": [
    "import langchain\n",
    "from langchain.chains import RetrievalQAWithSourcesChain\n",
    "from langchain.chains.qa_with_sources.loading import load_qa_with_sources_chain"
   ]
  },
  {
   "cell_type": "code",
   "execution_count": 47,
   "metadata": {},
   "outputs": [],
   "source": [
    "from langchain_community.chat_models import ChatOllama\n",
    "\n",
    "\n",
    "llm = ChatOllama(model=\"llama3:latest\",temperature=0,)"
   ]
  },
  {
   "cell_type": "code",
   "execution_count": 46,
   "metadata": {},
   "outputs": [
    {
     "data": {
      "text/plain": [
       "AIMessage(content=\"Here's one:\\n\\nWhy couldn't the bicycle stand up by itself?\\n\\n(wait for it...)\\n\\nBecause it was two-tired!\\n\\nHope that made you smile! Do you want to hear another one?\", additional_kwargs={}, response_metadata={'model': 'llama3:latest', 'created_at': '2024-10-07T21:19:22.9244282Z', 'message': {'role': 'assistant', 'content': ''}, 'done_reason': 'stop', 'done': True, 'total_duration': 26478671000, 'load_duration': 10918951800, 'prompt_eval_count': 14, 'prompt_eval_duration': 2721848000, 'eval_count': 40, 'eval_duration': 12832372000}, id='run-45a1c8fb-5b4a-4287-9cf7-49027f59f99d-0')"
      ]
     },
     "execution_count": 46,
     "metadata": {},
     "output_type": "execute_result"
    }
   ],
   "source": [
    "llm.invoke(\"tell me a joke\")"
   ]
  },
  {
   "cell_type": "code",
   "execution_count": 51,
   "metadata": {},
   "outputs": [],
   "source": [
    "from langchain_chroma import Chroma\n",
    "vector_store = Chroma(\n",
    "    collection_name=\"orangehrm\",\n",
    "\n",
    "    embedding_function=embed,\n",
    "    persist_directory=\"./chroma_langchain_db\",  # Where to save data locally, remove if not necessary\n",
    ")"
   ]
  },
  {
   "cell_type": "code",
   "execution_count": null,
   "metadata": {},
   "outputs": [],
   "source": [
    "storage_context = StorageContext.from_defaults(vector_store=vector_store)"
   ]
  },
  {
   "cell_type": "code",
   "execution_count": null,
   "metadata": {},
   "outputs": [],
   "source": [
    "chain = RetrievalQAWithSourcesChain.from_llm(llm=llm, retreiver = vector_store)"
   ]
  },
  {
   "cell_type": "code",
   "execution_count": null,
   "metadata": {},
   "outputs": [],
   "source": []
  }
 ],
 "metadata": {
  "kernelspec": {
   "display_name": ".venv",
   "language": "python",
   "name": "python3"
  },
  "language_info": {
   "codemirror_mode": {
    "name": "ipython",
    "version": 3
   },
   "file_extension": ".py",
   "mimetype": "text/x-python",
   "name": "python",
   "nbconvert_exporter": "python",
   "pygments_lexer": "ipython3",
   "version": "3.12.3"
  }
 },
 "nbformat": 4,
 "nbformat_minor": 2
}
